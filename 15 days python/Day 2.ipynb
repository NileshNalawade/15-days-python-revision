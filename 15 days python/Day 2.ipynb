{
 "cells": [
  {
   "cell_type": "markdown",
   "metadata": {},
   "source": [
    "# VARIABLES AND DATA TYPES"
   ]
  },
  {
   "cell_type": "markdown",
   "metadata": {},
   "source": [
    "## EXAMPLE QUESTIONS"
   ]
  },
  {
   "cell_type": "markdown",
   "metadata": {},
   "source": [
    "##### Q 1: Create variables for storing a person's name, age, and average test score"
   ]
  },
  {
   "cell_type": "code",
   "execution_count": 3,
   "metadata": {},
   "outputs": [
    {
     "name": "stdout",
     "output_type": "stream",
     "text": [
      "enter your namenilesh\n",
      "input your age21\n",
      "enter average test score100\n",
      "data saved\n"
     ]
    }
   ],
   "source": [
    "name=input(\"enter your name\")\n",
    "age=int(input(\"input your age\"))\n",
    "average_score=float(input(\"enter average test score\"))\n",
    "print(\"data saved\")"
   ]
  },
  {
   "cell_type": "markdown",
   "metadata": {},
   "source": [
    "##### Q 2: Concatenate two strings and print the result.\n"
   ]
  },
  {
   "cell_type": "code",
   "execution_count": 2,
   "metadata": {},
   "outputs": [
    {
     "name": "stdout",
     "output_type": "stream",
     "text": [
      "hello my name is Nilesh\n"
     ]
    }
   ],
   "source": [
    "a=\"hello my na\"\n",
    "b=\"me is Nilesh\"\n",
    "\n",
    "concatinate = a+b\n",
    "print(concatinate)"
   ]
  },
  {
   "cell_type": "markdown",
   "metadata": {},
   "source": [
    "##### Q 3: Create a list of fruits and access elements using indexing."
   ]
  },
  {
   "cell_type": "code",
   "execution_count": 7,
   "metadata": {},
   "outputs": [
    {
     "data": {
      "text/plain": [
       "['mango', 'kivi', 'banana']"
      ]
     },
     "execution_count": 7,
     "metadata": {},
     "output_type": "execute_result"
    }
   ],
   "source": [
    "fruits=[\"mango\",\"kivi\",\"banana\",\"jackfruit\",\"grapes\"]\n",
    "fruits[:3]"
   ]
  },
  {
   "cell_type": "markdown",
   "metadata": {},
   "source": [
    "# Practice Questions"
   ]
  },
  {
   "cell_type": "markdown",
   "metadata": {},
   "source": [
    "1.  Given a list of numbers, find the sum and average'"
   ]
  },
  {
   "cell_type": "code",
   "execution_count": 4,
   "metadata": {},
   "outputs": [
    {
     "name": "stdout",
     "output_type": "stream",
     "text": [
      "sum :  100   average :  10.0\n"
     ]
    }
   ],
   "source": [
    "a=[1,3,5,7,9,11,13,15,17,19]\n",
    "sum_a = sum(a)\n",
    "avrage = sum_a / len(a)\n",
    "print(\"sum : \",sum_a, \"  average : \",avrage)"
   ]
  },
  {
   "cell_type": "markdown",
   "metadata": {},
   "source": [
    "2. Create a program that takes a temperature in Celsius and\n",
    "converts it to Kelvin'"
   ]
  },
  {
   "cell_type": "code",
   "execution_count": 6,
   "metadata": {},
   "outputs": [
    {
     "name": "stdout",
     "output_type": "stream",
     "text": [
      "enter a number in Celsius50\n",
      "temperature in kelvin is  323.15\n"
     ]
    }
   ],
   "source": [
    "temp_C = int(input(\"enter a number in Celsius\"))\n",
    "kelvin = temp_C + 273.15\n",
    "print(\"temperature in kelvin is \",kelvin)"
   ]
  },
  {
   "cell_type": "markdown",
   "metadata": {},
   "source": [
    "3. Implement a program that checks if a given string is a\n",
    "palindrome'"
   ]
  },
  {
   "cell_type": "code",
   "execution_count": 23,
   "metadata": {},
   "outputs": [
    {
     "name": "stdout",
     "output_type": "stream",
     "text": [
      "enter stringasdfg\n",
      "not a palindrome\n"
     ]
    }
   ],
   "source": [
    "a=input(\"enter string\")\n",
    "if a == a[::-1]:\n",
    "    print(\"is a palindrome\")\n",
    "else:\n",
    "    print(\"not a palindrome\")"
   ]
  },
  {
   "cell_type": "markdown",
   "metadata": {},
   "source": [
    "4. Create a function to reverse a given string'"
   ]
  },
  {
   "cell_type": "code",
   "execution_count": 2,
   "metadata": {},
   "outputs": [
    {
     "name": "stdout",
     "output_type": "stream",
     "text": [
      "enter a stringasdfgfdsa\n"
     ]
    },
    {
     "data": {
      "text/plain": [
       "<reversed at 0x25f10c9efc8>"
      ]
     },
     "execution_count": 2,
     "metadata": {},
     "output_type": "execute_result"
    }
   ],
   "source": [
    "a=input(\"enter a string\")\n",
    "b=reversed(a)\n",
    "b"
   ]
  },
  {
   "cell_type": "markdown",
   "metadata": {},
   "source": [
    "5. Given a list of names, concatenate them into a single string separated by spaces'"
   ]
  },
  {
   "cell_type": "code",
   "execution_count": 10,
   "metadata": {},
   "outputs": [
    {
     "name": "stdout",
     "output_type": "stream",
     "text": [
      "nilesh dip om\n"
     ]
    }
   ],
   "source": [
    "a=(\"nilesh\", \"dip\",\"om\" )\n",
    "b=\" \".join(a)\n",
    "print(b)"
   ]
  },
  {
   "cell_type": "markdown",
   "metadata": {},
   "source": [
    "6. Write a Python program to check if a given string is a pangram (contains all letters of the alphabet)."
   ]
  },
  {
   "cell_type": "code",
   "execution_count": 15,
   "metadata": {},
   "outputs": [
    {
     "name": "stdout",
     "output_type": "stream",
     "text": [
      "enter a stringnilesh\n",
      "not a pangram\n"
     ]
    }
   ],
   "source": [
    "a=input(\"enter a string\")\n",
    "b= set(\"abcdefghijklmnopqrstuvwxyz\")\n",
    "unique_letters = set(char.lower() for char in a if char.isalpha())\n",
    "if unique_letters != b:\n",
    "    print(\"not a pangram\")\n",
    "else:\n",
    "    print(\"pangram\")"
   ]
  },
  {
   "cell_type": "markdown",
   "metadata": {},
   "source": [
    "7. Calculate the area and circumference of a circle given its radius'"
   ]
  },
  {
   "cell_type": "code",
   "execution_count": 13,
   "metadata": {},
   "outputs": [
    {
     "name": "stdout",
     "output_type": "stream",
     "text": [
      "enter radius2\n",
      "12.56\n"
     ]
    }
   ],
   "source": [
    "r=int(input(\"enter radius\"))\n",
    "area=3.14*(r*r)\n",
    "print(area)"
   ]
  },
  {
   "cell_type": "markdown",
   "metadata": {},
   "source": [
    "8. Implement a program that converts a given number of minutes into hours and minutes'"
   ]
  },
  {
   "cell_type": "code",
   "execution_count": 6,
   "metadata": {},
   "outputs": [
    {
     "name": "stdout",
     "output_type": "stream",
     "text": [
      "enter number of minutes452\n",
      "7 Hours & 32 Minutes\n"
     ]
    }
   ],
   "source": [
    "m=int(input(\"enter number of minutes\"))\n",
    "hours = m//60\n",
    "minutes = (m%60)%60\n",
    "print( hours,\"Hours &\", minutes, \"Minutes\")"
   ]
  },
  {
   "cell_type": "markdown",
   "metadata": {},
   "source": [
    "9. Create a function to count the number of vowels in a given string'"
   ]
  },
  {
   "cell_type": "code",
   "execution_count": 7,
   "metadata": {},
   "outputs": [
    {
     "name": "stdout",
     "output_type": "stream",
     "text": [
      "The number of vowels in the given string is: 9\n"
     ]
    }
   ],
   "source": [
    "def count_vowels(input_string):\n",
    "    # Define a set of vowels\n",
    "    vowels = set(\"aeiouAEIOU\")\n",
    "    \n",
    "    # Use a list comprehension to count vowels in the string\n",
    "    vowel_count = sum(1 for char in input_string if char in vowels)\n",
    "    \n",
    "    return vowel_count\n",
    "\n",
    "# Example usage:\n",
    "input_string = \"Hello, how are you today?\"\n",
    "result = count_vowels(input_string)\n",
    "print(f\"The number of vowels in the given string is: {result}\")"
   ]
  },
  {
   "cell_type": "markdown",
   "metadata": {},
   "source": [
    "10. Write a program to check if a number is prime."
   ]
  },
  {
   "cell_type": "code",
   "execution_count": null,
   "metadata": {},
   "outputs": [],
   "source": [
    "a=int(input(\"enter a number\"))\n"
   ]
  }
 ],
 "metadata": {
  "kernelspec": {
   "display_name": "Python 3",
   "language": "python",
   "name": "python3"
  },
  "language_info": {
   "codemirror_mode": {
    "name": "ipython",
    "version": 3
   },
   "file_extension": ".py",
   "mimetype": "text/x-python",
   "name": "python",
   "nbconvert_exporter": "python",
   "pygments_lexer": "ipython3",
   "version": "3.7.6"
  }
 },
 "nbformat": 4,
 "nbformat_minor": 4
}
